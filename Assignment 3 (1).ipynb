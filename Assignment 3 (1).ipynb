{
 "cells": [
  {
   "cell_type": "markdown",
   "id": "9891fa79",
   "metadata": {},
   "source": [
    "# Assignment 3"
   ]
  },
  {
   "cell_type": "markdown",
   "id": "ef3fccc1",
   "metadata": {},
   "source": [
    "1.\n",
    "Functions reduce the need for duplicate code. This makes programs shorter, easier to read, and easier to update"
   ]
  },
  {
   "cell_type": "markdown",
   "id": "e6baf0f5",
   "metadata": {},
   "source": [
    "2.\n",
    "When function is called the code in the function run"
   ]
  },
  {
   "cell_type": "markdown",
   "id": "f0727e13",
   "metadata": {},
   "source": [
    "3.\n",
    "The “def” keyword is a statement for defining a function in Python."
   ]
  },
  {
   "cell_type": "markdown",
   "id": "c3c5769d",
   "metadata": {},
   "source": [
    "4.\n",
    "the difference between the function and function call is, A function is procedure to achieve a particular result while function call is using this function to achive that task."
   ]
  },
  {
   "cell_type": "markdown",
   "id": "b4defdf7",
   "metadata": {},
   "source": [
    "5.\n",
    "one global Python scope per program execution.\n",
    "Local (or function) scope is the code block or body of any Python function or lambda expression. "
   ]
  },
  {
   "cell_type": "markdown",
   "id": "4d07ab4c",
   "metadata": {},
   "source": [
    "6.\n",
    "When the execution of the function  returns, the local variables are destroyed."
   ]
  },
  {
   "cell_type": "markdown",
   "id": "7a2a80c1",
   "metadata": {},
   "source": [
    "7.\n",
    "A return statement is used to end the execution of the function call and “returns” the result (value of the expression following the return keyword) to the caller. The statements after the return statements are not executed. If the return statement is without any expression, then the special value None is returned."
   ]
  },
  {
   "cell_type": "markdown",
   "id": "b8c21de9",
   "metadata": {},
   "source": [
    "8.\n",
    "In Python, every function returns something. If there are no return statements, then it returns None."
   ]
  },
  {
   "cell_type": "markdown",
   "id": "d37dc59a",
   "metadata": {},
   "source": [
    "9.\n",
    "If you want to refer to a global variable in a function, you can use the global keyword to declare which variables are global."
   ]
  },
  {
   "cell_type": "markdown",
   "id": "bb80cc19",
   "metadata": {},
   "source": [
    "10.\n",
    "None is used to define a null value. It is not the same as an empty string, False, or a zero. It is a data type of the class NoneType object"
   ]
  },
  {
   "cell_type": "markdown",
   "id": "cb14f1f9",
   "metadata": {},
   "source": [
    "11.\n",
    "That import statement imports a module named areallyourpetsnamederic."
   ]
  },
  {
   "cell_type": "markdown",
   "id": "ebcf81eb",
   "metadata": {},
   "source": [
    "12.\n",
    "This function can be called with spam. bacon()"
   ]
  },
  {
   "cell_type": "markdown",
   "id": "3f626d6c",
   "metadata": {},
   "source": [
    "13.\n",
    "we can use exception handling, If an error occurs in a program, we don't want the program to unexpectedly crash on the user. Instead, error handling can be used to notify the user of why the error occurred and gracefully exit the process that caused the error."
   ]
  },
  {
   "cell_type": "markdown",
   "id": "170cda54",
   "metadata": {},
   "source": [
    "14.\n",
    "except statement catches an exception. It is used to test code for an error which is written in the “try” statement. If an error is encountered, the contents of the “except” block are run."
   ]
  }
 ],
 "metadata": {
  "kernelspec": {
   "display_name": "Python 3",
   "language": "python",
   "name": "python3"
  },
  "language_info": {
   "codemirror_mode": {
    "name": "ipython",
    "version": 3
   },
   "file_extension": ".py",
   "mimetype": "text/x-python",
   "name": "python",
   "nbconvert_exporter": "python",
   "pygments_lexer": "ipython3",
   "version": "3.8.8"
  }
 },
 "nbformat": 4,
 "nbformat_minor": 5
}
